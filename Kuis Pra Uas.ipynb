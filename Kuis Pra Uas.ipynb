{
  "nbformat": 4,
  "nbformat_minor": 0,
  "metadata": {
    "colab": {
      "provenance": []
    },
    "kernelspec": {
      "name": "python3",
      "display_name": "Python 3"
    },
    "language_info": {
      "name": "python"
    }
  },
  "cells": [
    {
      "cell_type": "code",
      "execution_count": null,
      "metadata": {
        "id": "6_UVzqt7PiLl"
      },
      "outputs": [],
      "source": [
        "struct Mahasiswa {\n",
        "    string nama;\n",
        "    double ipk;\n",
        "};\n",
        "\n",
        "struct Node {\n",
        "    Mahasiswa mhs;\n",
        "    Node* next;\n",
        "};"
      ]
    },
    {
      "cell_type": "code",
      "source": [
        "struct Mahasiswa {\n",
        "    string nama;\n",
        "    double ipk;\n",
        "};\n",
        "\n",
        "struct Node {\n",
        "    Mahasiswa mhs;\n",
        "    Node* next;\n",
        "};"
      ],
      "metadata": {
        "id": "EP3e60bUPtAJ"
      },
      "execution_count": null,
      "outputs": []
    },
    {
      "cell_type": "code",
      "source": [
        "void MyList::tambahBelakang(int databaru) {\n",
        "    Node* baru = new Node;\n",
        "    baru->data = databaru;\n",
        "    baru->next = NULL;\n",
        "\n",
        "    if (isEmpty()) {\n",
        "        head = baru;\n",
        "    } else {\n",
        "        Node* current = head;\n",
        "        while (current->next != NULL) {\n",
        "            current = current->next;\n",
        "        }\n",
        "        current->next = baru;\n",
        "    }\n",
        "}"
      ],
      "metadata": {
        "id": "Kx7-6-qSPwA_"
      },
      "execution_count": null,
      "outputs": []
    },
    {
      "cell_type": "code",
      "source": [
        "void MyList::tambahBelakang(int databaru) {\n",
        "    Node* baru = new Node;\n",
        "    baru->data = databaru;\n",
        "    baru->next = NULL;\n",
        "\n",
        "    if (isEmpty()) {\n",
        "        head = baru;\n",
        "    } else {\n",
        "        Node* current = head;\n",
        "        while (current->next != NULL) {\n",
        "            current = current->next;\n",
        "        }\n",
        "        current->next = baru;\n",
        "    }\n",
        "}\n",
        "\n",
        "void MyList::hapusDepan() {\n",
        "    if (isEmpty()) {\n",
        "        cout << \"List kosong\" << endl;\n",
        "    } else {\n",
        "        if (head->next == NULL) {\n",
        "            delete head;\n",
        "            head = NULL;\n",
        "        } else {\n",
        "            Node* hapus = head;\n",
        "            head = head->next;\n",
        "            delete hapus;\n",
        "        }\n",
        "    }\n",
        "}\n"
      ],
      "metadata": {
        "id": "GzpkzG_5Pydi"
      },
      "execution_count": null,
      "outputs": []
    },
    {
      "cell_type": "code",
      "source": [
        "void tukar(int& a, int& b, int& c) {\n",
        "    if (a > b) {\n",
        "        swap(a, b);\n",
        "    }\n",
        "    if (b > c) {\n",
        "        swap(b, c);\n",
        "    }\n",
        "    if (a > b) {\n",
        "        swap(a, b);\n",
        "    }\n",
        "}"
      ],
      "metadata": {
        "id": "xf8wIyFaP1pH"
      },
      "execution_count": null,
      "outputs": []
    },
    {
      "cell_type": "code",
      "source": [
        "#include <iostream>\n",
        "#include <vector>\n",
        "#include <algorithm>\n",
        "\n",
        "using namespace std;\n",
        "\n",
        "int main() {\n",
        "    int N;\n",
        "    cin >> N;\n",
        "\n",
        "    vector<vector<int>> activities(N, vector<int>(3));\n",
        "\n",
        "    for (int i = 0; i < N; i++) {\n",
        "        cin >> activities[i][0] >> activities[i][1] >> activities[i][2];\n",
        "    }\n",
        "\n",
        "    vector<vector<int>> dp(N, vector<int>(3));\n",
        "\n",
        "    dp[0][0] = activities[0][0];\n",
        "    dp[0][1] = activities[0][1];\n",
        "    dp[0][2] = activities[0][2];\n",
        "\n",
        "    for (int i = 1; i < N; i++) {\n",
        "        dp[i][0] = activities[i][0] + max(dp[i - 1][1], dp[i - 1][2]);\n",
        "        dp[i][1] = activities[i][1] + max(dp[i - 1][0], dp[i - 1][2]);\n",
        "        dp[i][2] = activities[i][2] + max(dp[i - 1][0], dp[i - 1][1]);\n",
        "    }\n",
        "\n",
        "    int maxHappiness = max(dp[N - 1][0], max(dp[N - 1][1], dp[N - 1][2]));\n",
        "    cout << maxHappiness << endl;\n",
        "\n",
        "    return 0;\n",
        "}\n"
      ],
      "metadata": {
        "id": "0xPPV-jZP5OV"
      },
      "execution_count": null,
      "outputs": []
    },
    {
      "cell_type": "code",
      "source": [
        "#include <iostream>\n",
        "#include <vector>\n",
        "\n",
        "using namespace std;\n",
        "\n",
        "int binarySearch(const vector<int>& arr, int target, int& iterations) {\n",
        "    int left = 0;\n",
        "    int right = arr.size() - 1;\n",
        "    int index = -1;\n",
        "\n",
        "    while (left <= right) {\n",
        "        iterations++;\n",
        "        int mid = left + (right - left) / 2;\n",
        "\n",
        "        if (arr[mid] == target) {\n",
        "            index = mid;\n",
        "            break;\n",
        "        } else if (arr[mid] < target) {\n",
        "            left = mid + 1;\n",
        "        } else {\n",
        "            right = mid - 1;\n",
        "        }\n",
        "    }\n",
        "\n",
        "    return index;\n",
        "}\n",
        "\n",
        "int main() {\n",
        "    int N;\n",
        "    cin >> N;\n",
        "\n",
        "    vector<int> arr(N);\n",
        "    for (int i = 0; i < N; i++) {\n",
        "        cin >> arr[i];\n",
        "    }\n",
        "\n",
        "    int X;\n",
        "    cin >> X;\n",
        "\n",
        "    int iterations = 0;\n",
        "    int index = binarySearch(arr, X, iterations);\n",
        "\n",
        "    if (index != -1) {\n",
        "        cout << index << \" \" << iterations << endl;\n",
        "    } else {\n",
        "        cout << -1 << \" \" << iterations << endl;\n",
        "    }\n",
        "\n",
        "    return 0;\n",
        "}"
      ],
      "metadata": {
        "id": "tpLRZsILP9kI"
      },
      "execution_count": null,
      "outputs": []
    }
  ]
}
