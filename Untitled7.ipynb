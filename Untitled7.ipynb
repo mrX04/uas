{
  "cells": [
    {
      "cell_type": "code",
      "execution_count": null,
      "metadata": {
        "id": "6_UVzqt7PiLl"
      },
      "outputs": [],
      "source": [
        "#include <iostream>\n",
        "#include <string>\n",
        "\n",
        "bool isOperator(const std::string& symbol) {\n",
        "    return (symbol == \"+\" || symbol == \"-\" || symbol == \"*\" || symbol == \"/\");\n",
        "}\n",
        "\n"
      ]
    },
    {
      "cell_type": "code",
      "execution_count": null,
      "metadata": {
        "id": "EP3e60bUPtAJ"
      },
      "outputs": [],
      "source": [
        "#include <iostream>\n",
        "using namespace std;\n",
        "\n",
        "int getPrecedence(string op) {\n",
        "\tif (op == \"*\" || op == \"/\"){\n",
        "\t\treturn 2;\n",
        "\t}else if (op == \"+\" || op == \"-\"){\n",
        "\t\treturn 1;\n",
        "\t}else{\n",
        "\t\treturn 0;\n",
        "\t}\n",
        "}"
      ]
    }
  ],
  "metadata": {
    "colab": {
      "provenance": []
    },
    "kernelspec": {
      "display_name": "Python 3",
      "name": "python3"
    },
    "language_info": {
      "name": "python"
    }
  },
  "nbformat": 4,
  "nbformat_minor": 0
}
