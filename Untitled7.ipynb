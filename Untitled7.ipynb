{
  "cells": [
    {
      "cell_type": "code",
      "execution_count": null,
      "metadata": {
        "id": "6_UVzqt7PiLl"
      },
      "outputs": [],
      "source": [
        "#include <iostream>\n",
        "#include <cmath>\n",
        "\n",
        "using namespace std;\n",
        "\n",
        "double jarak(double x1, double y1, double x2, double y2) {\n",
        "    return sqrt(pow(x2 - x1, 2) + pow(y2 - y1, 2));\n",
        "}\n"
      ]
    },
    {
      "cell_type": "code",
      "execution_count": null,
      "metadata": {
        "id": "EP3e60bUPtAJ"
      },
      "outputs": [],
      "source": [
        "#include <iostream>\n",
        "#include <climits>\n",
        "using namespace std;\n",
        "\n",
        "void findMax() {\n",
        "    int N;\n",
        "    cin >> N;\n",
        "\n",
        "    int maxVal = INT_MIN;\n",
        "\n",
        "    for (int i = 0; i < N; i++) {\n",
        "        int data;\n",
        "        cin >> data;\n",
        "        if (data > maxVal) {\n",
        "            maxVal = data;\n",
        "        }\n",
        "    }\n",
        "\n",
        "    cout << maxVal << endl;\n",
        "}\n"
      ]
    },
    {
      "cell_type": "code",
      "execution_count": null,
      "metadata": {
        "id": "Kx7-6-qSPwA_"
      },
      "outputs": [],
      "source": [
        "#include <iostream>\n",
        "using namespace std;\n",
        "\n",
        "void hitungRerata() {\n",
        "    int N;\n",
        "    cin >> N;\n",
        "\n",
        "    double total = 0;\n",
        "\n",
        "    for (int i = 0; i < N; i++) {\n",
        "        double data;\n",
        "        cin >> data;\n",
        "        total += data;\n",
        "    }\n",
        "\n",
        "    double rerata = total / N;\n",
        "\n",
        "    cout << rerata << endl;\n",
        "}"
      ]
    },
    {
      "cell_type": "code",
      "execution_count": null,
      "metadata": {
        "id": "GzpkzG_5Pydi"
      },
      "outputs": [],
      "source": [
        "#include <iostream>\n",
        "using namespace std;\n",
        "\n",
        "int fib(int n) {\n",
        "    int f[n+1];\n",
        "    f[0] = 0;\n",
        "    f[1] = 1;\n",
        "    for (int i = 2; i <= n; i++) {\n",
        "        f[i] = f[i-1] + f[i-2];\n",
        "    }\n",
        "    return f[n];\n",
        "}"
      ]
    },
    {
      "cell_type": "code",
      "execution_count": null,
      "metadata": {
        "id": "xf8wIyFaP1pH"
      },
      "outputs": [],
      "source": [
        "double circle(int r) {\n",
        "    const double pi = 3.14;\n",
        "    double luas = pi * r * r;\n",
        "    return luas;\n",
        "}"
      ]
    }
  ],
  "metadata": {
    "colab": {
      "provenance": []
    },
    "kernelspec": {
      "display_name": "Python 3",
      "name": "python3"
    },
    "language_info": {
      "name": "python"
    }
  },
  "nbformat": 4,
  "nbformat_minor": 0
}
